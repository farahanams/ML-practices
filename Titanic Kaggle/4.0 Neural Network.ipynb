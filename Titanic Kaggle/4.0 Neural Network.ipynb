{
 "cells": [
  {
   "cell_type": "markdown",
   "metadata": {},
   "source": [
    "# Neural Network with Titanic Data\n",
    "Date: 17/8/2020\n",
    "\n",
    "* To contruct multiple NN for Titanic Dataset.\n",
    "* Will try to use both Pytorch and Tensorflow.\n",
    "* Resources [Code](https://code.visualstudio.com/docs/python/data-science-tutorial)"
   ]
  },
  {
   "cell_type": "code",
   "execution_count": 1,
   "metadata": {},
   "outputs": [],
   "source": [
    "# import essential packages\n",
    "import numpy as np\n",
    "import matplotlib.pyplot as plt\n",
    "import seaborn as sns\n",
    "import pandas as pd\n",
    "\n",
    "# Neural Network\n",
    "import tensorflow as tf\n",
    "from tensorflow.keras.models import Sequential\n",
    "from tensorflow.keras.layers import Dense\n",
    "\n",
    "import warnings\n",
    "warnings.filterwarnings(\"ignore\")"
   ]
  },
  {
   "cell_type": "code",
   "execution_count": 2,
   "metadata": {},
   "outputs": [],
   "source": [
    "# Input train and validation data files\n",
    "train_data = pd.read_csv('train.csv')\n",
    "test_data = pd.read_csv('test.csv')"
   ]
  },
  {
   "cell_type": "code",
   "execution_count": 3,
   "metadata": {},
   "outputs": [
    {
     "data": {
      "text/plain": [
       "1    342\n",
       "0    342\n",
       "Name: Survived, dtype: int64"
      ]
     },
     "execution_count": 3,
     "metadata": {},
     "output_type": "execute_result"
    }
   ],
   "source": [
    "exclude_data = train_data[train_data[\"Sex\"]=='male'][train_data['Pclass']==3][train_data['Survived']==0][:207] # simple drop data\n",
    "train_data_balance =  train_data.drop(exclude_data.index)\n",
    "train_data_balance.Survived.value_counts()"
   ]
  },
  {
   "cell_type": "code",
   "execution_count": 4,
   "metadata": {},
   "outputs": [],
   "source": [
    "from sklearn.compose import make_column_transformer \n",
    "from sklearn.preprocessing import OneHotEncoder"
   ]
  },
  {
   "cell_type": "code",
   "execution_count": 5,
   "metadata": {},
   "outputs": [],
   "source": [
    "# 1. Get the features needed and assigned to X and y.\n",
    "train_nmf = train_data_balance.loc[:, ['Survived', 'Pclass', 'Sex', 'SibSp', 'Parch', 'Fare']]\n",
    "y_train = train_nmf['Survived']\n",
    "train_nmf = train_nmf.drop('Survived', axis='columns')\n",
    "\n",
    "column_trans = make_column_transformer((OneHotEncoder(), ['Sex']), remainder='passthrough')\n",
    "X_train = column_trans.fit_transform(train_nmf)\n",
    "\n",
    "# -------- #\n",
    "\n",
    "#2. get the test data, X_test\n",
    "med = test_data.groupby(['SibSp', 'Parch'])['Age'].transform('median')\n",
    "test_data.Fare = test_data.Fare.fillna(med)\n",
    "test_data.isna().sum()\n",
    "\n",
    "X_test = test_data.loc[:,['Pclass', 'Sex', 'SibSp', 'Parch', 'Fare']]"
   ]
  },
  {
   "cell_type": "code",
   "execution_count": 6,
   "metadata": {},
   "outputs": [],
   "source": [
    "from sklearn.model_selection import train_test_split\n",
    "\n",
    "x_train, x_test, y_train, y_test = train_test_split(X_train, y_train, test_size=0.2, random_state=0)"
   ]
  },
  {
   "cell_type": "code",
   "execution_count": 7,
   "metadata": {},
   "outputs": [
    {
     "data": {
      "text/plain": [
       "(547,)"
      ]
     },
     "execution_count": 7,
     "metadata": {},
     "output_type": "execute_result"
    }
   ],
   "source": [
    "y_train.shape"
   ]
  },
  {
   "cell_type": "code",
   "execution_count": 8,
   "metadata": {},
   "outputs": [],
   "source": [
    "model = Sequential()\n",
    "\n",
    "model.add(Dense(6, kernel_initializer = 'uniform', activation = 'relu', input_dim = 6))\n",
    "model.add(Dense(6, kernel_initializer = 'uniform', activation = 'relu'))\n",
    "model.add(Dense(1, kernel_initializer = 'uniform', activation = 'sigmoid'))"
   ]
  },
  {
   "cell_type": "code",
   "execution_count": 9,
   "metadata": {},
   "outputs": [
    {
     "name": "stdout",
     "output_type": "stream",
     "text": [
      "Model: \"sequential\"\n",
      "_________________________________________________________________\n",
      "Layer (type)                 Output Shape              Param #   \n",
      "=================================================================\n",
      "dense (Dense)                (None, 6)                 42        \n",
      "_________________________________________________________________\n",
      "dense_1 (Dense)              (None, 6)                 42        \n",
      "_________________________________________________________________\n",
      "dense_2 (Dense)              (None, 1)                 7         \n",
      "=================================================================\n",
      "Total params: 91\n",
      "Trainable params: 91\n",
      "Non-trainable params: 0\n",
      "_________________________________________________________________\n"
     ]
    }
   ],
   "source": [
    "model.summary()"
   ]
  },
  {
   "cell_type": "code",
   "execution_count": 10,
   "metadata": {},
   "outputs": [
    {
     "name": "stdout",
     "output_type": "stream",
     "text": [
      "Epoch 1/50\n",
      "18/18 [==============================] - 0s 445us/step - loss: 0.6932 - accuracy: 0.4973\n",
      "Epoch 2/50\n",
      "18/18 [==============================] - 0s 442us/step - loss: 0.6930 - accuracy: 0.5155\n",
      "Epoch 3/50\n",
      "18/18 [==============================] - 0s 444us/step - loss: 0.6930 - accuracy: 0.5155\n",
      "Epoch 4/50\n",
      "18/18 [==============================] - 0s 389us/step - loss: 0.6928 - accuracy: 0.5155\n",
      "Epoch 5/50\n",
      "18/18 [==============================] - 0s 444us/step - loss: 0.6923 - accuracy: 0.5155\n",
      "Epoch 6/50\n",
      "18/18 [==============================] - 0s 389us/step - loss: 0.6906 - accuracy: 0.5265\n",
      "Epoch 7/50\n",
      "18/18 [==============================] - 0s 444us/step - loss: 0.6866 - accuracy: 0.5832\n",
      "Epoch 8/50\n",
      "18/18 [==============================] - 0s 389us/step - loss: 0.6810 - accuracy: 0.6179\n",
      "Epoch 9/50\n",
      "18/18 [==============================] - 0s 444us/step - loss: 0.6767 - accuracy: 0.6508\n",
      "Epoch 10/50\n",
      "18/18 [==============================] - 0s 444us/step - loss: 0.6708 - accuracy: 0.6380\n",
      "Epoch 11/50\n",
      "18/18 [==============================] - 0s 445us/step - loss: 0.6652 - accuracy: 0.6527\n",
      "Epoch 12/50\n",
      "18/18 [==============================] - 0s 444us/step - loss: 0.6606 - accuracy: 0.6399\n",
      "Epoch 13/50\n",
      "18/18 [==============================] - 0s 389us/step - loss: 0.6543 - accuracy: 0.6545\n",
      "Epoch 14/50\n",
      "18/18 [==============================] - 0s 389us/step - loss: 0.6491 - accuracy: 0.6472\n",
      "Epoch 15/50\n",
      "18/18 [==============================] - 0s 389us/step - loss: 0.6448 - accuracy: 0.6600\n",
      "Epoch 16/50\n",
      "18/18 [==============================] - 0s 389us/step - loss: 0.6428 - accuracy: 0.6563\n",
      "Epoch 17/50\n",
      "18/18 [==============================] - 0s 389us/step - loss: 0.6356 - accuracy: 0.6819\n",
      "Epoch 18/50\n",
      "18/18 [==============================] - 0s 444us/step - loss: 0.6313 - accuracy: 0.6782\n",
      "Epoch 19/50\n",
      "18/18 [==============================] - 0s 444us/step - loss: 0.6247 - accuracy: 0.6910\n",
      "Epoch 20/50\n",
      "18/18 [==============================] - 0s 389us/step - loss: 0.6191 - accuracy: 0.7038\n",
      "Epoch 21/50\n",
      "18/18 [==============================] - 0s 444us/step - loss: 0.6140 - accuracy: 0.7075\n",
      "Epoch 22/50\n",
      "18/18 [==============================] - 0s 444us/step - loss: 0.6112 - accuracy: 0.7093\n",
      "Epoch 23/50\n",
      "18/18 [==============================] - 0s 389us/step - loss: 0.6073 - accuracy: 0.7148\n",
      "Epoch 24/50\n",
      "18/18 [==============================] - 0s 444us/step - loss: 0.6009 - accuracy: 0.7185\n",
      "Epoch 25/50\n",
      "18/18 [==============================] - 0s 444us/step - loss: 0.5986 - accuracy: 0.7221\n",
      "Epoch 26/50\n",
      "18/18 [==============================] - 0s 389us/step - loss: 0.5969 - accuracy: 0.7075\n",
      "Epoch 27/50\n",
      "18/18 [==============================] - 0s 389us/step - loss: 0.5919 - accuracy: 0.7258\n",
      "Epoch 28/50\n",
      "18/18 [==============================] - 0s 389us/step - loss: 0.5909 - accuracy: 0.7239\n",
      "Epoch 29/50\n",
      "18/18 [==============================] - 0s 444us/step - loss: 0.5913 - accuracy: 0.7185\n",
      "Epoch 30/50\n",
      "18/18 [==============================] - 0s 389us/step - loss: 0.5894 - accuracy: 0.7258\n",
      "Epoch 31/50\n",
      "18/18 [==============================] - 0s 389us/step - loss: 0.5835 - accuracy: 0.7276\n",
      "Epoch 32/50\n",
      "18/18 [==============================] - 0s 444us/step - loss: 0.5838 - accuracy: 0.7203\n",
      "Epoch 33/50\n",
      "18/18 [==============================] - 0s 444us/step - loss: 0.5851 - accuracy: 0.7185\n",
      "Epoch 34/50\n",
      "18/18 [==============================] - 0s 444us/step - loss: 0.5788 - accuracy: 0.7203\n",
      "Epoch 35/50\n",
      "18/18 [==============================] - 0s 389us/step - loss: 0.5825 - accuracy: 0.7148\n",
      "Epoch 36/50\n",
      "18/18 [==============================] - 0s 389us/step - loss: 0.5769 - accuracy: 0.7221\n",
      "Epoch 37/50\n",
      "18/18 [==============================] - 0s 389us/step - loss: 0.5765 - accuracy: 0.7185\n",
      "Epoch 38/50\n",
      "18/18 [==============================] - 0s 389us/step - loss: 0.5750 - accuracy: 0.7185\n",
      "Epoch 39/50\n",
      "18/18 [==============================] - 0s 389us/step - loss: 0.5753 - accuracy: 0.7166\n",
      "Epoch 40/50\n",
      "18/18 [==============================] - 0s 444us/step - loss: 0.5872 - accuracy: 0.7294\n",
      "Epoch 41/50\n",
      "18/18 [==============================] - 0s 389us/step - loss: 0.5721 - accuracy: 0.7203\n",
      "Epoch 42/50\n",
      "18/18 [==============================] - 0s 444us/step - loss: 0.5722 - accuracy: 0.7203\n",
      "Epoch 43/50\n",
      "18/18 [==============================] - 0s 444us/step - loss: 0.5740 - accuracy: 0.7148\n",
      "Epoch 44/50\n",
      "18/18 [==============================] - 0s 444us/step - loss: 0.5712 - accuracy: 0.7185\n",
      "Epoch 45/50\n",
      "18/18 [==============================] - 0s 444us/step - loss: 0.5841 - accuracy: 0.7020\n",
      "Epoch 46/50\n",
      "18/18 [==============================] - 0s 389us/step - loss: 0.5727 - accuracy: 0.7239\n",
      "Epoch 47/50\n",
      "18/18 [==============================] - 0s 389us/step - loss: 0.5704 - accuracy: 0.7221\n",
      "Epoch 48/50\n",
      "18/18 [==============================] - 0s 389us/step - loss: 0.5695 - accuracy: 0.7185\n",
      "Epoch 49/50\n",
      "18/18 [==============================] - 0s 389us/step - loss: 0.5699 - accuracy: 0.7203\n",
      "Epoch 50/50\n",
      "18/18 [==============================] - 0s 389us/step - loss: 0.5676 - accuracy: 0.7239\n"
     ]
    },
    {
     "data": {
      "text/plain": [
       "<tensorflow.python.keras.callbacks.History at 0x1953b4c35b0>"
      ]
     },
     "execution_count": 10,
     "metadata": {},
     "output_type": "execute_result"
    }
   ],
   "source": [
    "model.compile(optimizer=\"adam\", loss='binary_crossentropy', metrics=['accuracy'])\n",
    "model.fit(x_train, y_train, batch_size=32, epochs=50)"
   ]
  },
  {
   "cell_type": "code",
   "execution_count": 11,
   "metadata": {},
   "outputs": [],
   "source": [
    "from sklearn import metrics"
   ]
  },
  {
   "cell_type": "code",
   "execution_count": 12,
   "metadata": {},
   "outputs": [
    {
     "name": "stdout",
     "output_type": "stream",
     "text": [
      "WARNING:tensorflow:From <ipython-input-12-6196d41c07a9>:1: Sequential.predict_classes (from tensorflow.python.keras.engine.sequential) is deprecated and will be removed after 2021-01-01.\n",
      "Instructions for updating:\n",
      "Please use instead:* `np.argmax(model.predict(x), axis=-1)`,   if your model does multi-class classification   (e.g. if it uses a `softmax` last-layer activation).* `(model.predict(x) > 0.5).astype(\"int32\")`,   if your model does binary classification   (e.g. if it uses a `sigmoid` last-layer activation).\n",
      "0.7372262773722628\n"
     ]
    }
   ],
   "source": [
    "y_pred = model.predict_classes(x_test)\n",
    "print(metrics.accuracy_score(y_test, y_pred))"
   ]
  },
  {
   "cell_type": "code",
   "execution_count": 13,
   "metadata": {},
   "outputs": [],
   "source": [
    "def make_submission (predictions, clf):\n",
    "    submission = pd.DataFrame()\n",
    "    submission['PassengerId'] = test_data['PassengerId']\n",
    "    submission['Survived'] = predictions\n",
    "\n",
    "    submission.to_csv('submission_' + clf + '.csv', index=False)"
   ]
  },
  {
   "cell_type": "code",
   "execution_count": 14,
   "metadata": {},
   "outputs": [],
   "source": [
    "X_test = test_data.loc[:,['Pclass', 'Sex', 'SibSp', 'Parch', 'Fare']]"
   ]
  },
  {
   "cell_type": "code",
   "execution_count": 15,
   "metadata": {},
   "outputs": [],
   "source": [
    "predictions = model.predict_classes(column_trans.fit_transform(X_test))"
   ]
  },
  {
   "cell_type": "code",
   "execution_count": 16,
   "metadata": {},
   "outputs": [],
   "source": [
    "make_submission(predictions, 'nn01')"
   ]
  },
  {
   "cell_type": "code",
   "execution_count": null,
   "metadata": {},
   "outputs": [],
   "source": []
  }
 ],
 "metadata": {
  "kernelspec": {
   "display_name": "Python 3",
   "language": "python",
   "name": "python3"
  },
  "language_info": {
   "codemirror_mode": {
    "name": "ipython",
    "version": 3
   },
   "file_extension": ".py",
   "mimetype": "text/x-python",
   "name": "python",
   "nbconvert_exporter": "python",
   "pygments_lexer": "ipython3",
   "version": "3.8.5"
  }
 },
 "nbformat": 4,
 "nbformat_minor": 4
}
