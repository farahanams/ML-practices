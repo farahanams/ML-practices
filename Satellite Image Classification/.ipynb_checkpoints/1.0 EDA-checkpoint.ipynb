{
 "cells": [
  {
   "cell_type": "markdown",
   "metadata": {},
   "source": [
    "# Satellite Image Classification\n",
    "#### Farahana, 19/8/2020\n",
    "\n",
    "1. Problem : Classify specific objects in satellite images\n",
    "2. Target: To be able to deploy the model and re-use the model for retraining.\n",
    "3. Date: ??\n",
    "\n",
    "Resources: "
   ]
  },
  {
   "cell_type": "code",
   "execution_count": null,
   "metadata": {},
   "outputs": [],
   "source": []
  }
 ],
 "metadata": {
  "kernelspec": {
   "display_name": "Python 3",
   "language": "python",
   "name": "python3"
  },
  "language_info": {
   "codemirror_mode": {
    "name": "ipython",
    "version": 3
   },
   "file_extension": ".py",
   "mimetype": "text/x-python",
   "name": "python",
   "nbconvert_exporter": "python",
   "pygments_lexer": "ipython3",
   "version": "3.8.5"
  }
 },
 "nbformat": 4,
 "nbformat_minor": 4
}
